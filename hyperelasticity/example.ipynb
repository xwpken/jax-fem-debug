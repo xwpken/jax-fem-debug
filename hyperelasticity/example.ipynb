{
 "cells": [
  {
   "cell_type": "markdown",
   "id": "8cf1818a",
   "metadata": {},
   "source": [
    "# Implementation\n",
    "***"
   ]
  },
  {
   "cell_type": "markdown",
   "id": "5aab4978",
   "metadata": {},
   "source": [
    "Import some useful modules\n"
   ]
  },
  {
   "cell_type": "code",
   "execution_count": null,
   "id": "9a978b74",
   "metadata": {},
   "outputs": [],
   "source": [
    "import jax\n",
    "import jax.numpy as np\n",
    "import os\n",
    "\n",
    "from jax_fem.problem import Problem\n",
    "from jax_fem.solver import solver\n",
    "from jax_fem.utils import save_sol\n",
    "from jax_fem.generate_mesh import box_mesh, get_meshio_cell_type, Mesh"
   ]
  },
  {
   "cell_type": "markdown",
   "id": "f058d855",
   "metadata": {},
   "source": [
    "Define constitutive relationship. The `get_tensor_map` function overrides base class method. Generally, *JAX-FEM* solves $-\\nabla \\cdot \\boldsymbol{f}(\\nabla \\boldsymbol{u}) = \\boldsymbol{b}$. Here, we define $\\boldsymbol{f}(\\nabla \\boldsymbol{u})=\\boldsymbol{P}$. Notice how we first define `psi` (representing $W$), and then use automatic differentiation (`jax.grad`) to obtain the `P_fn` function."
   ]
  },
  {
   "cell_type": "code",
   "execution_count": null,
   "id": "3e34854e",
   "metadata": {},
   "outputs": [],
   "source": [
    "class HyperElasticity(Problem):\n",
    "\n",
    "    def get_tensor_map(self):\n",
    "\n",
    "        def psi(F):\n",
    "            E = 10.\n",
    "            nu = 0.3\n",
    "            mu = E / (2. * (1. + nu))\n",
    "            kappa = E / (3. * (1. - 2. * nu))\n",
    "            J = np.linalg.det(F)\n",
    "            Jinv = J**(-2. / 3.)\n",
    "            I1 = np.trace(F.T @ F)\n",
    "            energy = (mu / 2.) * (Jinv * I1 - 3.) + (kappa / 2.) * (J - 1.)**2.\n",
    "            return energy\n",
    "\n",
    "        P_fn = jax.grad(psi)\n",
    "\n",
    "        def first_PK_stress(u_grad):\n",
    "            I = np.eye(self.dim)\n",
    "            F = u_grad + I\n",
    "            P = P_fn(F)\n",
    "            return P\n",
    "\n",
    "        return first_PK_stress"
   ]
  },
  {
   "cell_type": "markdown",
   "id": "cf486359",
   "metadata": {},
   "source": [
    "Specify mesh-related information. We use first-order hexahedron element."
   ]
  },
  {
   "cell_type": "code",
   "execution_count": null,
   "id": "a610bcff",
   "metadata": {},
   "outputs": [],
   "source": [
    "ele_type = 'HEX8'\n",
    "cell_type = get_meshio_cell_type(ele_type)\n",
    "data_dir = os.path.join(os.path.dirname(__file__), 'data')\n",
    "Lx, Ly, Lz = 1., 1., 1.\n",
    "meshio_mesh = box_mesh(Nx=20,\n",
    "                       Ny=20,\n",
    "                       Nz=20,\n",
    "                       Lx=Lx,\n",
    "                       Ly=Ly,\n",
    "                       Lz=Lz,\n",
    "                       data_dir=data_dir,\n",
    "                       ele_type=ele_type)\n",
    "mesh = Mesh(meshio_mesh.points, meshio_mesh.cells_dict[cell_type])"
   ]
  },
  {
   "cell_type": "markdown",
   "id": "6cec67f7",
   "metadata": {},
   "source": [
    "Define boundary locations:"
   ]
  },
  {
   "cell_type": "code",
   "execution_count": null,
   "id": "a9f0133a",
   "metadata": {},
   "outputs": [],
   "source": [
    "def left(point):\n",
    "    return np.isclose(point[0], 0., atol=1e-5)\n",
    "\n",
    "\n",
    "def right(point):\n",
    "    return np.isclose(point[0], Lx, atol=1e-5)"
   ]
  },
  {
   "cell_type": "code",
   "execution_count": 2,
   "id": "b1262cdb",
   "metadata": {},
   "outputs": [
    {
     "ename": "SyntaxError",
     "evalue": "invalid syntax (2593699647.py, line 1)",
     "output_type": "error",
     "traceback": [
      "\u001b[0;36m  Cell \u001b[0;32mIn[2], line 1\u001b[0;36m\u001b[0m\n\u001b[0;31m    Define Dirichlet boundary values:\u001b[0m\n\u001b[0m           ^\u001b[0m\n\u001b[0;31mSyntaxError\u001b[0m\u001b[0;31m:\u001b[0m invalid syntax\n"
     ]
    }
   ],
   "source": [
    "Define Dirichlet boundary values:"
   ]
  },
  {
   "cell_type": "code",
   "execution_count": null,
   "id": "69da65dd",
   "metadata": {},
   "outputs": [],
   "source": [
    "def zero_dirichlet_val(point):\n",
    "    return 0.\n",
    "\n",
    "\n",
    "def dirichlet_val_x2(point):\n",
    "    return (0.5 + (point[1] - 0.5) * np.cos(np.pi / 3.) -\n",
    "            (point[2] - 0.5) * np.sin(np.pi / 3.) - point[1]) / 2.\n",
    "\n",
    "\n",
    "def dirichlet_val_x3(point):\n",
    "    return (0.5 + (point[1] - 0.5) * np.sin(np.pi / 3.) +\n",
    "            (point[2] - 0.5) * np.cos(np.pi / 3.) - point[2]) / 2.\n",
    "\n",
    "\n",
    "dirichlet_bc_info = [[left] * 3 + [right] * 3, [0, 1, 2] * 2,\n",
    "                     [zero_dirichlet_val, dirichlet_val_x2, dirichlet_val_x3] +\n",
    "                     [zero_dirichlet_val] * 3]"
   ]
  },
  {
   "cell_type": "code",
   "execution_count": null,
   "id": "32129594",
   "metadata": {},
   "outputs": [],
   "source": [
    "problem = HyperElasticity(mesh,\n",
    "                          vec=3,\n",
    "                          dim=3,\n",
    "                          ele_type=ele_type,\n",
    "                          dirichlet_bc_info=dirichlet_bc_info)\n",
    "sol = solver(problem, use_petsc=True)\n",
    "vtk_path = os.path.join(data_dir, f'vtk/u.vtu')\n",
    "save_sol(problem.fes[0], sol[0], vtk_path)"
   ]
  }
 ],
 "metadata": {
  "kernelspec": {
   "display_name": "jax-fem",
   "language": "python",
   "name": "jxa-fem-env"
  },
  "language_info": {
   "codemirror_mode": {
    "name": "ipython",
    "version": 3
   },
   "file_extension": ".py",
   "mimetype": "text/x-python",
   "name": "python",
   "nbconvert_exporter": "python",
   "pygments_lexer": "ipython3",
   "version": "3.9.18"
  },
  "toc": {
   "base_numbering": 1,
   "nav_menu": {},
   "number_sections": true,
   "sideBar": true,
   "skip_h1_title": false,
   "title_cell": "Table of Contents",
   "title_sidebar": "Contents",
   "toc_cell": false,
   "toc_position": {},
   "toc_section_display": true,
   "toc_window_display": false
  },
  "varInspector": {
   "cols": {
    "lenName": 16,
    "lenType": 16,
    "lenVar": 40
   },
   "kernels_config": {
    "python": {
     "delete_cmd_postfix": "",
     "delete_cmd_prefix": "del ",
     "library": "var_list.py",
     "varRefreshCmd": "print(var_dic_list())"
    },
    "r": {
     "delete_cmd_postfix": ") ",
     "delete_cmd_prefix": "rm(",
     "library": "var_list.r",
     "varRefreshCmd": "cat(var_dic_list()) "
    }
   },
   "types_to_exclude": [
    "module",
    "function",
    "builtin_function_or_method",
    "instance",
    "_Feature"
   ],
   "window_display": false
  }
 },
 "nbformat": 4,
 "nbformat_minor": 5
}
