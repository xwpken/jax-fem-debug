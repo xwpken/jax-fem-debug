{
 "cells": [
  {
   "cell_type": "markdown",
   "id": "15456a61-396d-4e25-bd64-251e46ce0377",
   "metadata": {},
   "source": [
    "# To casADi"
   ]
  },
  {
   "cell_type": "markdown",
   "id": "9f4742bf-3d08-42f5-a960-8bef35202105",
   "metadata": {},
   "source": [
    "Last modified: 30/06/2024 \n",
    "\n",
    "by weipeng\n",
    "\n",
    "> Reference: https://web.casadi.org/docs/#document-symbolic"
   ]
  },
  {
   "cell_type": "code",
   "execution_count": 2,
   "id": "7afe52cb-35e6-4d46-a9bd-09f91bcd2336",
   "metadata": {},
   "outputs": [],
   "source": [
    "import casadi as ca"
   ]
  },
  {
   "cell_type": "markdown",
   "id": "e70091aa-37da-4f5a-8f2d-da4705d1b4d7",
   "metadata": {},
   "source": [
    "CasADi is an open-source software tool for numerical optimization in general"
   ]
  },
  {
   "cell_type": "markdown",
   "id": "561d1e78-7dfd-41c0-a19a-308fd6e1c47b",
   "metadata": {},
   "source": [
    "## Some useful API"
   ]
  },
  {
   "cell_type": "markdown",
   "id": "4509c7a3-5803-4cdd-abb0-07a601b427ae",
   "metadata": {},
   "source": [
    "### casadi.SX\n",
    "\n",
    "SX.sym is a (static) function which returns an SX instance.\n",
    "\n",
    "The SX data type is used to represent **matrices** whose elements consist of **symbolic expressions** made up by a sequence of unary and binary operations. "
   ]
  },
  {
   "cell_type": "code",
   "execution_count": 65,
   "id": "7b7d4b04-9c4c-4d2b-b3a0-b67b0d1b01d0",
   "metadata": {},
   "outputs": [
    {
     "name": "stdout",
     "output_type": "stream",
     "text": [
      "<class 'casadi.casadi.SX'>\n",
      "x\n"
     ]
    }
   ],
   "source": [
    "x = ca.SX.sym('x')\n",
    "print(type(x))\n",
    "print(x)"
   ]
  },
  {
   "cell_type": "code",
   "execution_count": 87,
   "id": "beb52a6b-6a3d-4bbc-b1f7-1cd268dee37e",
   "metadata": {},
   "outputs": [
    {
     "name": "stdout",
     "output_type": "stream",
     "text": [
      "<class 'casadi.casadi.SX'>\n",
      "\n",
      "[[A_0, A_3, A_6], \n",
      " [A_1, A_4, A_7], \n",
      " [A_2, A_5, A_8]]\n",
      "A_0\n"
     ]
    }
   ],
   "source": [
    "y = ca.SX.sym('A',3,3)\n",
    "print(type(y))\n",
    "print(y)\n",
    "print(y[0,0])"
   ]
  },
  {
   "cell_type": "code",
   "execution_count": 62,
   "id": "397e0a95-2a94-43dd-871b-c060c27a58f1",
   "metadata": {},
   "outputs": [
    {
     "name": "stdout",
     "output_type": "stream",
     "text": [
      "<class 'casadi.casadi.SX'>\n",
      "@1=20, \n",
      "[[(sq(A_0)+@1), (sq(A_3)+@1), (sq(A_6)+@1)], \n",
      " [(sq(A_1)+@1), (sq(A_4)+@1), (sq(A_7)+@1)], \n",
      " [(sq(A_2)+@1), (sq(A_5)+@1), (sq(A_8)+@1)]]\n"
     ]
    }
   ],
   "source": [
    "f = y**2 + 20\n",
    "print(type(f))\n",
    "print(f)"
   ]
  },
  {
   "cell_type": "markdown",
   "id": "8623a34a-1f58-4d8a-b0f5-b483ed2740a0",
   "metadata": {},
   "source": [
    "We can also create constant SX instances without any symbolic primitives:"
   ]
  },
  {
   "cell_type": "code",
   "execution_count": 86,
   "id": "80caf58d-62f0-4428-a998-5ceff70decc5",
   "metadata": {},
   "outputs": [
    {
     "data": {
      "text/plain": [
       "SX(\n",
       "[[00, 00, 00], \n",
       " [00, 00, 00], \n",
       " [00, 00, 00]])"
      ]
     },
     "execution_count": 86,
     "metadata": {},
     "output_type": "execute_result"
    }
   ],
   "source": [
    "ca.SX(3,3)"
   ]
  },
  {
   "cell_type": "code",
   "execution_count": 19,
   "id": "9fd1b299-c721-459c-9a53-25ceda29fa88",
   "metadata": {},
   "outputs": [
    {
     "data": {
      "text/plain": [
       "SX(@1=1, \n",
       "[[@1, 00, 00], \n",
       " [00, @1, 00], \n",
       " [00, 00, @1]])"
      ]
     },
     "execution_count": 19,
     "metadata": {},
     "output_type": "execute_result"
    }
   ],
   "source": [
    "ca.SX.eye(3)"
   ]
  },
  {
   "cell_type": "code",
   "execution_count": 20,
   "id": "4070edc3-fd16-463c-9f3a-af732cdee62f",
   "metadata": {},
   "outputs": [
    {
     "data": {
      "text/plain": [
       "SX(@1=0, \n",
       "[[@1, @1, @1], \n",
       " [@1, @1, @1], \n",
       " [@1, @1, @1]])"
      ]
     },
     "execution_count": 20,
     "metadata": {},
     "output_type": "execute_result"
    }
   ],
   "source": [
    "ca.SX.zeros(3,3)"
   ]
  },
  {
   "cell_type": "markdown",
   "id": "f2a64ab2-0b7f-449c-ad8e-e69ffbf90f34",
   "metadata": {},
   "source": [
    "where '@1' represents the 'actual value' and '00' represents the 'structural zeros' in sparse matrix."
   ]
  },
  {
   "cell_type": "markdown",
   "id": "c56b8520-8572-485d-bf27-7b473e63e5c8",
   "metadata": {},
   "source": [
    "### casadi.DM"
   ]
  },
  {
   "cell_type": "markdown",
   "id": "ca12d736-44c8-4ddb-9b79-1e3aae9f0c57",
   "metadata": {},
   "source": [
    "**Very similar to casadi.SX** !!!\n",
    "\n",
    "DM is mainly used for **storing matrices** in CasADi and as inputs and outputs of functions. \n",
    "\n",
    "**Not used for** computationally intensive calculations\n",
    "\n",
    "**Nonzero elements** are numerical values and not symbolic expressions"
   ]
  },
  {
   "cell_type": "code",
   "execution_count": 60,
   "id": "17896b3b-5a08-4ee2-b618-96aa2925d227",
   "metadata": {},
   "outputs": [
    {
     "name": "stdout",
     "output_type": "stream",
     "text": [
      "<class 'casadi.casadi.DM'>\n",
      "<class 'numpy.ndarray'>\n",
      "<class 'scipy.sparse._csc.csc_matrix'>\n"
     ]
    }
   ],
   "source": [
    "C = ca.DM.zeros(2,3)\n",
    "C_dense = C.full()\n",
    "C_sparse = C.sparse()\n",
    "print(type(C[0,0]))\n",
    "print(type(C_dense))\n",
    "print(type(C_sparse))"
   ]
  },
  {
   "cell_type": "markdown",
   "id": "a3b34061-ff8f-407a-b1ea-3dc4d41d2343",
   "metadata": {},
   "source": [
    "### casadi.MX"
   ]
  },
  {
   "cell_type": "markdown",
   "id": "961a8118-3828-4d8d-bd64-9e14de61d610",
   "metadata": {},
   "source": [
    "Allow functions operations with general multiple sparse-matrix valued input, multiple sparse-matrix valued output to form **matrix expression**"
   ]
  },
  {
   "cell_type": "code",
   "execution_count": 83,
   "id": "7aa9c758-be69-4c52-81d8-f26fa7397952",
   "metadata": {},
   "outputs": [
    {
     "name": "stdout",
     "output_type": "stream",
     "text": [
      "<class 'casadi.casadi.MX'>\n",
      "x\n",
      "x[3]\n"
     ]
    }
   ],
   "source": [
    "x = ca.MX.sym('x',3,3)\n",
    "print(type(x))\n",
    "print(x)\n",
    "# like MATLAB grammar (indices are arranged in column order, 0,1,2,3,... \n",
    "# from top to bottom of the column 1 to N)\n",
    "print(x[0,1]) "
   ]
  },
  {
   "cell_type": "code",
   "execution_count": 95,
   "id": "592450a3-a68f-4724-9a98-635a43f1e86a",
   "metadata": {},
   "outputs": [
    {
     "name": "stdout",
     "output_type": "stream",
     "text": [
      "x\n",
      "zeros(2x2,0nz)\n",
      "(project((zeros(2x2,1nz)[0] = x[0]))[1] = (x[0]+x[1]))\n"
     ]
    }
   ],
   "source": [
    "x = ca.MX.sym('x',2)\n",
    "print(x)\n",
    "A = ca.MX(2,2)\n",
    "print(A)\n",
    "A[0,0] = x[0]\n",
    "A[1,1] = x[0] + x[1]\n",
    "print(A)"
   ]
  },
  {
   "cell_type": "markdown",
   "id": "706225dd-c9a5-4711-8485-6cb260fa53b0",
   "metadata": {},
   "source": [
    "* Notes on 'SX' and 'MX':\n",
    "\n",
    "We **can not perform direct operation** to mix 'SX' and 'MX' objects, but we can include the the function defined by SX expressions. \n",
    "\n",
    "'SX' are used for low level operations and 'MX' are used for construct complex formulations"
   ]
  },
  {
   "cell_type": "markdown",
   "id": "30253ac6-7c39-4662-8acc-d11b2ca79da1",
   "metadata": {},
   "source": [
    "### casadi.Sparsity"
   ]
  },
  {
   "cell_type": "markdown",
   "id": "c946d0fd-4dc0-4eb7-b59b-3bc178eb3f0c",
   "metadata": {},
   "source": [
    "The matrices in CasADi are stored using the compressed column storage (**CCS**) format."
   ]
  },
  {
   "cell_type": "code",
   "execution_count": 100,
   "id": "3fbdef62-7045-4d5b-9cc6-1f5918a0eb83",
   "metadata": {},
   "outputs": [
    {
     "name": "stdout",
     "output_type": "stream",
     "text": [
      "<class 'casadi.casadi.Sparsity'>\n",
      "3x3\n"
     ]
    }
   ],
   "source": [
    "A = ca.Sparsity.dense(3,3)\n",
    "print(type(A))\n",
    "print(A)"
   ]
  },
  {
   "cell_type": "code",
   "execution_count": 106,
   "id": "acc01bcf-9fd1-460b-a3cf-c117e4def8b1",
   "metadata": {},
   "outputs": [
    {
     "name": "stdout",
     "output_type": "stream",
     "text": [
      "\n",
      "[[x_0, 00, 00], \n",
      " [x_1, x_3, 00], \n",
      " [x_2, x_4, x_5]]\n",
      "(3, 3)\n"
     ]
    }
   ],
   "source": [
    "print(ca.SX.sym('x',ca.Sparsity.lower(3)))\n",
    "A = ca.MX.sym('x',ca.Sparsity.lower(3))\n",
    "print(A.shape)"
   ]
  },
  {
   "cell_type": "markdown",
   "id": "311aeccc-5d42-4632-9309-e03b2535c3c5",
   "metadata": {},
   "source": [
    "* Notes on 'Getting and setting elements in matrices':\n",
    "\n",
    "The way to access data is very similat to Python (start from 0, slices, ...)\n",
    "\n",
    "Besides, the list can also be used as the indices to slice, but is less efficient than slice accesss.\n"
   ]
  },
  {
   "cell_type": "code",
   "execution_count": 117,
   "id": "1c09b92e-75b6-4add-9a78-f48cecf2a54c",
   "metadata": {},
   "outputs": [
    {
     "name": "stdout",
     "output_type": "stream",
     "text": [
      "@1=2, \n",
      "[[@1, @1], \n",
      " [@1, @1]]\n",
      "\n",
      "[[4, 3], \n",
      " [2, 1]]\n",
      "\n",
      "[[1, 2], \n",
      " [3, 4]]\n",
      "@1=1, \n",
      "[[@1, 2], \n",
      " [3, @1]]\n"
     ]
    }
   ],
   "source": [
    "M = ca.SX([[1,2],[3,4]])\n",
    "print(M[[0,0],[1,1]])\n",
    "print(M[::-1,::-1])\n",
    "print(M)\n",
    "M[1,1]=1\n",
    "print(M)"
   ]
  },
  {
   "cell_type": "markdown",
   "id": "2f74448a-72da-440a-8254-58fcc00cae07",
   "metadata": {},
   "source": [
    "### Mathematical operations"
   ]
  },
  {
   "cell_type": "code",
   "execution_count": 123,
   "id": "b6a58102-caa3-429e-86fd-7e3791b9f2cb",
   "metadata": {},
   "outputs": [
    {
     "name": "stdout",
     "output_type": "stream",
     "text": [
      "\n",
      "[[(x*y_0), (x*y_3), (x*y_6)], \n",
      " [(x*y_1), (x*y_4), (x*y_7)], \n",
      " [(x*y_2), (x*y_5), (x*y_8)]]\n"
     ]
    }
   ],
   "source": [
    "x = ca.SX.sym('x')\n",
    "y = ca.SX.sym('y',3,3)\n",
    "# element-wise multiplication\n",
    "res = x*y\n",
    "print(res)"
   ]
  },
  {
   "cell_type": "code",
   "execution_count": 133,
   "id": "fd01bf6c-75dd-4db7-9092-75622be0981f",
   "metadata": {},
   "outputs": [
    {
     "name": "stdout",
     "output_type": "stream",
     "text": [
      "@1=(x*y_0), @2=(x*y_1), @3=(x*y_2), @4=(x*y_3), @5=(x*y_4), @6=(x*y_5), @7=(x*y_6), @8=(x*y_7), @9=(x*y_8), \n",
      "[[(((y_0*@1)+(y_3*@2))+(y_6*@3)), (((y_0*@4)+(y_3*@5))+(y_6*@6)), (((y_0*@7)+(y_3*@8))+(y_6*@9))], \n",
      " [(((y_1*@1)+(y_4*@2))+(y_7*@3)), (((y_1*@4)+(y_4*@5))+(y_7*@6)), (((y_1*@7)+(y_4*@8))+(y_7*@9))], \n",
      " [(((y_2*@1)+(y_5*@2))+(y_8*@3)), (((y_2*@4)+(y_5*@5))+(y_8*@6)), (((y_2*@7)+(y_5*@8))+(y_8*@9))]]\n",
      "\n",
      "[[((y_0+y_1)+y_2), ((y_3+y_4)+y_5), ((y_6+y_7)+y_8)], \n",
      " [((y_0+y_1)+y_2), ((y_3+y_4)+y_5), ((y_6+y_7)+y_8)], \n",
      " [((y_0+y_1)+y_2), ((y_3+y_4)+y_5), ((y_6+y_7)+y_8)]]\n"
     ]
    }
   ],
   "source": [
    "# matrix multiplication -- A@B or mtimes(A,B)\n",
    "print(y@res)\n",
    "c = ca.SX.ones(3,3)\n",
    "res = ca.mtimes(c,y)\n",
    "print(res)"
   ]
  },
  {
   "cell_type": "code",
   "execution_count": 134,
   "id": "cec0fc28-dc26-4f79-921c-3be1df20d45b",
   "metadata": {},
   "outputs": [
    {
     "name": "stdout",
     "output_type": "stream",
     "text": [
      "\n",
      "[[((y_0+y_1)+y_2), ((y_0+y_1)+y_2), ((y_0+y_1)+y_2)], \n",
      " [((y_3+y_4)+y_5), ((y_3+y_4)+y_5), ((y_3+y_4)+y_5)], \n",
      " [((y_6+y_7)+y_8), ((y_6+y_7)+y_8), ((y_6+y_7)+y_8)]]\n"
     ]
    }
   ],
   "source": [
    "# transpose\n",
    "print(res.T)"
   ]
  },
  {
   "cell_type": "code",
   "execution_count": 138,
   "id": "d8faed60-5889-4166-b15c-f7998138ac01",
   "metadata": {},
   "outputs": [
    {
     "name": "stdout",
     "output_type": "stream",
     "text": [
      "@1=1, \n",
      "[[@1, 00, 00], \n",
      " [00, @1, 00], \n",
      " [00, 00, @1]]\n",
      "@1=1, [@1, 00, 00, 00, @1, 00, 00, 00, @1]\n"
     ]
    }
   ],
   "source": [
    "# reshape\n",
    "x = ca.SX.eye(3)\n",
    "print(x)\n",
    "print(ca.reshape(x,9,1))"
   ]
  },
  {
   "cell_type": "code",
   "execution_count": 145,
   "id": "c715f428-9f78-4386-9b25-8ec1cf949fb3",
   "metadata": {},
   "outputs": [
    {
     "name": "stdout",
     "output_type": "stream",
     "text": [
      "[x_0, x_1, x_2, x_3, x_4, x_0, x_1, x_2, x_3, x_4]\n",
      "\n",
      "[[x_0, x_0], \n",
      " [x_1, x_1], \n",
      " [x_2, x_2], \n",
      " [x_3, x_3], \n",
      " [x_4, x_4]]\n"
     ]
    }
   ],
   "source": [
    "# concatenation\n",
    "x = ca.SX.sym('x',5)\n",
    "y = x\n",
    "print(ca.vertcat(x,y)) # vertical\n",
    "print(ca.horzcat(x,y)) # horizontal"
   ]
  },
  {
   "cell_type": "code",
   "execution_count": 156,
   "id": "b7c473ab-e5d6-4bf3-8090-657e8698cb6c",
   "metadata": {},
   "outputs": [
    {
     "name": "stdout",
     "output_type": "stream",
     "text": [
      "[SX(\n",
      "[[z_0, z_5, z_10, z_15, z_20], \n",
      " [z_1, z_6, z_11, z_16, z_21]]), SX(\n",
      "[[z_2, z_7, z_12, z_17, z_22], \n",
      " [z_3, z_8, z_13, z_18, z_23], \n",
      " [z_4, z_9, z_14, z_19, z_24]])]\n",
      "[SX(\n",
      "[[z_0, z_5], \n",
      " [z_1, z_6], \n",
      " [z_2, z_7], \n",
      " [z_3, z_8], \n",
      " [z_4, z_9]]), SX(\n",
      "[[z_10, z_15, z_20], \n",
      " [z_11, z_16, z_21], \n",
      " [z_12, z_17, z_22], \n",
      " [z_13, z_18, z_23], \n",
      " [z_14, z_19, z_24]])]\n"
     ]
    }
   ],
   "source": [
    "# split (inverse process to concatenation)\n",
    "# which can also be implemented by 'slices' !!!\n",
    "z = ca.SX.sym('z',5,5)\n",
    "print(ca.vertsplit(z,[0,2,5])) # vertical\n",
    "print(ca.horzsplit(z,[0,2,5])) # horizontal"
   ]
  },
  {
   "cell_type": "code",
   "execution_count": 161,
   "id": "a8f50eb4-323e-4e0d-a8e2-e4ce1dd5886c",
   "metadata": {},
   "outputs": [
    {
     "name": "stdout",
     "output_type": "stream",
     "text": [
      "(((sq(x_0)+sq(x_1))+sq(x_2))+sq(x_3))\n"
     ]
    }
   ],
   "source": [
    "# Inner product\n",
    "# equals to tr(AB) = A_{ij}B_{ij}\n",
    "x = ca.SX.sym('x',2,2)\n",
    "print(ca.dot(x,x))\n"
   ]
  },
  {
   "cell_type": "markdown",
   "id": "7612c37f-30bf-4747-8c71-0804e2cef625",
   "metadata": {},
   "source": [
    "### Querying propoerties"
   ]
  },
  {
   "cell_type": "code",
   "execution_count": 185,
   "id": "858b8d93-4f06-4c04-9d38-a1815b8d3714",
   "metadata": {},
   "outputs": [
    {
     "name": "stdout",
     "output_type": "stream",
     "text": [
      "(5, 3)\n",
      "5\n",
      "3\n",
      "15\n",
      "15\n",
      "5x3\n",
      "True\n",
      "False\n",
      "False\n",
      "False\n",
      "False\n",
      "False\n"
     ]
    }
   ],
   "source": [
    "x = ca.SX.sym('x',5,3)\n",
    "# shape\n",
    "print(x.shape) \n",
    "# num of rows\n",
    "print(x.size1())\n",
    "# num of columns\n",
    "print(x.size2())\n",
    "# num of elements\n",
    "print(x.numel())\n",
    "# num of structurally nonzero elements\n",
    "print(x.nnz())\n",
    "# to sparsity\n",
    "print(x.sparsity())\n",
    "# \n",
    "print(x.is_dense())\n",
    "#  Is the matrix a scalar? (1x1)\n",
    "print(x.is_scalar())\n",
    "# is square matrix?\n",
    "print(x.is_square())\n",
    "# Is the matrix upper triangular?\n",
    "print(x.is_triu())\n",
    "# Are the matrix entries all constant?\n",
    "print(x.is_constant())\n",
    "# Are the matrix entries all integer-valued?\n",
    "print(x.is_integer())"
   ]
  },
  {
   "cell_type": "markdown",
   "id": "03fde999-a03f-4417-8adb-004af3853199",
   "metadata": {},
   "source": [
    "### Linear algenra"
   ]
  },
  {
   "cell_type": "code",
   "execution_count": 191,
   "id": "69d22558-efda-40a1-b2ea-a5f493b67e72",
   "metadata": {},
   "outputs": [
    {
     "name": "stdout",
     "output_type": "stream",
     "text": [
      "(A\\b)\n"
     ]
    }
   ],
   "source": [
    "# solution of linear systems of equations\n",
    "A = ca.MX.sym('A',3,3)\n",
    "b = ca.MX.sym('b',3)\n",
    "print(ca.solve(A,b))"
   ]
  },
  {
   "cell_type": "markdown",
   "id": "70ac6435-7f03-49cc-a614-d8eabc7c22d7",
   "metadata": {},
   "source": [
    "### Algorithm differentiation"
   ]
  },
  {
   "cell_type": "code",
   "execution_count": 205,
   "id": "3c08f77b-7215-4e0f-b899-43a59a7c8ad0",
   "metadata": {},
   "outputs": [
    {
     "name": "stdout",
     "output_type": "stream",
     "text": [
      "\n",
      "[[A_0, A_3, A_6], \n",
      " [A_1, A_4, A_7], \n",
      " [A_2, A_5, A_8]]\n",
      "\n",
      "[[00, 00, 00], \n",
      " [00, 00, 00], \n",
      " [00, 00, 00], \n",
      " [00, 00, 00], \n",
      " [00, 00, 00], \n",
      " [00, 00, 00], \n",
      " [00, 00, 00], \n",
      " [00, 00, 00], \n",
      " [00, 00, 00]]\n",
      "\n",
      "[[(A_0+A_0), (A_1+A_1), (A_2+A_2), 00, 00, 00, 00, 00, 00], \n",
      " [A_3, A_4, A_5, A_0, A_1, A_2, 00, 00, 00], \n",
      " [A_6, A_7, A_8, 00, 00, 00, A_0, A_1, A_2], \n",
      " [A_3, A_4, A_5, A_0, A_1, A_2, 00, 00, 00], \n",
      " [00, 00, 00, (A_3+A_3), (A_4+A_4), (A_5+A_5), 00, 00, 00], \n",
      " [00, 00, 00, A_6, A_7, A_8, A_3, A_4, A_5], \n",
      " [A_6, A_7, A_8, 00, 00, 00, A_0, A_1, A_2], \n",
      " [00, 00, 00, A_6, A_7, A_8, A_3, A_4, A_5], \n",
      " [00, 00, 00, 00, 00, 00, (A_6+A_6), (A_7+A_7), (A_8+A_8)]]\n",
      "[[(A_0+A_0), (A_1+A_1), (A_2+A_2), (A_3+A_3), (A_4+A_4), (A_5+A_5), (A_6+A_6), (A_7+A_7), (A_8+A_8)]]\n",
      "\n",
      "[[(A_0+A_0), (A_3+A_3), (A_6+A_6)], \n",
      " [(A_1+A_1), (A_4+A_4), (A_7+A_7)], \n",
      " [(A_2+A_2), (A_5+A_5), (A_8+A_8)]]\n"
     ]
    }
   ],
   "source": [
    "A = ca.SX.sym('A',3,3)\n",
    "b = ca.SX.sym('b',3)\n",
    "print(ca.jacobian(A@b,b))\n",
    "print(ca.jacobian(A,b))\n",
    "print(ca.jacobian((A.T)@A,A))\n",
    "print(ca.jacobian(ca.dot(A,A),A))\n",
    "print(ca.gradient(ca.dot(A,A),A)) # always dense"
   ]
  },
  {
   "cell_type": "code",
   "execution_count": 214,
   "id": "9a142579-6e19-458b-a903-6c15348e6d45",
   "metadata": {},
   "outputs": [
    {
     "name": "stdout",
     "output_type": "stream",
     "text": [
      "@1=3, [(v_0+(@1*v_1)), ((@1*v_0)+(7*v_1))]\n",
      "@1=3, [((@1*v_1)+v_0), ((7*v_1)+(@1*v_0))]\n"
     ]
    }
   ],
   "source": [
    "# jacobian-vector product\n",
    "A = ca.DM([[1,3],[3,7]])\n",
    "x = ca.SX.sym('x',2)\n",
    "v = ca.SX.sym('v',2)\n",
    "f = ca.mtimes(A,x)\n",
    "print(ca.jtimes(f,x,v)) # JVP\n",
    "# the transposed-Jacobian-times-vector product\n",
    "print(ca.jtimes(f,x,v,True)) # VJP?"
   ]
  },
  {
   "cell_type": "markdown",
   "id": "4a26cbb9-4dc8-4a29-a431-4bca64839ebc",
   "metadata": {},
   "source": [
    "### Function objects"
   ]
  },
  {
   "cell_type": "markdown",
   "id": "8678f7ac-5148-45b3-a070-0ac94c6f3214",
   "metadata": {},
   "source": [
    "The stntax: `f = functionname(name, arguments, ..., [options])`\n",
    "\n",
    "options: **dict** in python"
   ]
  },
  {
   "cell_type": "code",
   "execution_count": 224,
   "id": "41bc0e96-85d6-43d0-93aa-a6d580699144",
   "metadata": {},
   "outputs": [
    {
     "name": "stdout",
     "output_type": "stream",
     "text": [
      "f:(x[2],y)->(r[2],q[2]) SXFunction\n"
     ]
    }
   ],
   "source": [
    "x = ca.SX.sym('x',2)\n",
    "y = ca.SX.sym('y')\n",
    "f = ca.Function('f',[x,y],[x,y*x],['x','y'],['r','q'])\n",
    "print(f)\n",
    "\n",
    "# also works for MX"
   ]
  },
  {
   "cell_type": "code",
   "execution_count": 231,
   "id": "5b258a30-0615-4eb7-b045-1a1467925266",
   "metadata": {},
   "outputs": [
    {
     "name": "stdout",
     "output_type": "stream",
     "text": [
      "(DM([1, 2]), DM([3, 6]))\n",
      "(DM([1, 1]), DM([3, 3]))\n",
      "(DM([1, 1]), DM([3, 3]))\n",
      "{'q': DM([3, 3]), 'r': DM([1, 1])}\n"
     ]
    }
   ],
   "source": [
    "# evaluation\n",
    "print(f([1,2],3))\n",
    "print(f([1,1],3))\n",
    "print(f(1,3))\n",
    "res = f(x=1,y=3)\n",
    "print(res)"
   ]
  },
  {
   "cell_type": "code",
   "execution_count": 233,
   "id": "2c248328-a336-45ed-82ab-89ca7f399c9c",
   "metadata": {},
   "outputs": [],
   "source": [
    "# convert MX function to SX function\n",
    "# sx_function = mx_function.expand()"
   ]
  },
  {
   "cell_type": "markdown",
   "id": "76638639-89a7-491b-9b5a-2772ed0fcc49",
   "metadata": {},
   "source": [
    "## Applications"
   ]
  },
  {
   "cell_type": "markdown",
   "id": "49980202-0e0b-4f0e-8a86-8bf4f1e7c33a",
   "metadata": {},
   "source": [
    "### Nonlinear root-finding problems"
   ]
  },
  {
   "cell_type": "code",
   "execution_count": 252,
   "id": "3c783d65-8a9a-47a5-94b5-2da17d6b7675",
   "metadata": {},
   "outputs": [
    {
     "name": "stdout",
     "output_type": "stream",
     "text": [
      "root_finder:(i0,i1)->(o0,o1) Newton\n"
     ]
    },
    {
     "data": {
      "text/plain": [
       "{'o0': DM(-1), 'o1': DM(-3)}"
      ]
     },
     "execution_count": 252,
     "metadata": {},
     "output_type": "execute_result"
    }
   ],
   "source": [
    "z = ca.SX.sym('x',1)\n",
    "x = ca.SX.sym('x',1)\n",
    "g0 = z-2*x+1\n",
    "g1 = 3*z+x\n",
    "g = ca.Function('func_g',[z,x],[g0,g1])\n",
    "G = ca.rootfinder('root_finder','newton',g)\n",
    "print(G)\n",
    "G()"
   ]
  },
  {
   "cell_type": "markdown",
   "id": "75268823-7507-43d9-b870-4d595b128662",
   "metadata": {},
   "source": [
    "### Initial-value problems - ODEs"
   ]
  },
  {
   "cell_type": "code",
   "execution_count": null,
   "id": "f264ad46-30ba-4305-8498-f93d6a7be302",
   "metadata": {},
   "outputs": [],
   "source": []
  },
  {
   "cell_type": "markdown",
   "id": "c24a2e50-a65e-4826-8fc0-6571f52fe28e",
   "metadata": {},
   "source": [
    "### Initial-value problems - DAEs"
   ]
  },
  {
   "cell_type": "markdown",
   "id": "d3ff5cd1-79cb-41ac-bfc9-85d635dedf96",
   "metadata": {},
   "source": [
    "An integrator in CasADi is a function that takes several inputs:\n",
    "\n",
    "1. The state $x_0$ at the initial time $t=0$\n",
    "2. A set of parameters $p$\n",
    "3. A guess for the algebraic vaiables $z_0$ (only for DAEs)\n",
    "\n",
    "return:\n",
    "1. the state vector $xf$\n",
    "2. algebraic variables $zf$\n",
    "3. the quadrature state $qf$ at a number of output times.\n",
    "\n",
    "> ? The control vector $u$ is assumed to be piecewise constant and has the same grid discretization as the output grid.\n",
    "\n",
    "For ODEs, the `Cvodes` integrators will be used; for DAEs, the `IDAS` will be adopted, which are all from `SUNDIALS suite`."
   ]
  },
  {
   "cell_type": "markdown",
   "id": "1c09e072-6c63-4353-b544-8a77a31be9e1",
   "metadata": {},
   "source": [
    "Consider the following DAE system:\n",
    "\n",
    "$$\n",
    "\\begin{split}\\begin{aligned}\n",
    " \\dot{x} &= z+p, \\\\\n",
    "      0  &= z \\, \\cos(z)-x\n",
    "\\end{aligned}\\end{split}\n",
    "$$"
   ]
  },
  {
   "cell_type": "code",
   "execution_count": 271,
   "id": "36dfce4f-3b34-495d-a892-505289e82aae",
   "metadata": {},
   "outputs": [
    {
     "name": "stdout",
     "output_type": "stream",
     "text": [
      "F:(x0,z0,p,u[0x3],adj_xf[],adj_zf[],adj_qf[])->(xf[1x3],zf[1x3],qf[0x3],adj_x0[],adj_z0[],adj_p[],adj_u[]) IdasInterface\n",
      "{'adj_p': DM(0x0), 'adj_u': DM(0x0), 'adj_x0': DM(0x0), 'adj_z0': DM(0x0), 'qf': DM(0x3), 'xf': DM([[0.1724, 0.20141, 0.23369]]), 'zf': DM([[0.175076, 0.205749, 0.240622]])}\n"
     ]
    }
   ],
   "source": [
    "x = ca.SX.sym('x')\n",
    "z = ca.SX.sym('z')\n",
    "p = ca.SX.sym('p')\n",
    "dae = {'x':x,\n",
    "       'z':z,\n",
    "       'p':p,\n",
    "      'ode':z+p,\n",
    "      'alg':z*ca.cos(z)-x}\n",
    "F = ca.integrator('F','idas',dae,0.,[1,1.1,1.2])\n",
    "print(F)\n",
    "r = F(x0=0,z0=0,p=0.1)\n",
    "print(r)"
   ]
  }
 ],
 "metadata": {
  "kernelspec": {
   "display_name": "Python 3 (ipykernel)",
   "language": "python",
   "name": "python3"
  },
  "language_info": {
   "codemirror_mode": {
    "name": "ipython",
    "version": 3
   },
   "file_extension": ".py",
   "mimetype": "text/x-python",
   "name": "python",
   "nbconvert_exporter": "python",
   "pygments_lexer": "ipython3",
   "version": "3.9.18"
  }
 },
 "nbformat": 4,
 "nbformat_minor": 5
}
